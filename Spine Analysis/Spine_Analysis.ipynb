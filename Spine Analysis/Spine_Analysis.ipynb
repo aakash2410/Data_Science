{
 "cells": [
  {
   "cell_type": "code",
   "execution_count": 1,
   "metadata": {},
   "outputs": [],
   "source": [
    "import numpy as np\n",
    "import pandas as pd\n",
    "import matplotlib.pyplot as plt"
   ]
  },
  {
   "cell_type": "code",
   "execution_count": 2,
   "metadata": {},
   "outputs": [],
   "source": [
    "train_data=pd.read_csv('trainGT.csv')\n",
    "test_data=pd.read_csv('testGT.csv')"
   ]
  },
  {
   "cell_type": "code",
   "execution_count": 3,
   "metadata": {},
   "outputs": [
    {
     "data": {
      "text/html": [
       "<div>\n",
       "<style scoped>\n",
       "    .dataframe tbody tr th:only-of-type {\n",
       "        vertical-align: middle;\n",
       "    }\n",
       "\n",
       "    .dataframe tbody tr th {\n",
       "        vertical-align: top;\n",
       "    }\n",
       "\n",
       "    .dataframe thead th {\n",
       "        text-align: right;\n",
       "    }\n",
       "</style>\n",
       "<table border=\"1\" class=\"dataframe\">\n",
       "  <thead>\n",
       "    <tr style=\"text-align: right;\">\n",
       "      <th></th>\n",
       "      <th>Unnamed: 0</th>\n",
       "      <th>pelvic_incidence</th>\n",
       "      <th>pelvic_tilt</th>\n",
       "      <th>lumbar_lordosis_angle</th>\n",
       "      <th>sacral_slope</th>\n",
       "      <th>pelvic_radius</th>\n",
       "      <th>degree_spondylolisthesis</th>\n",
       "      <th>pelvic_slope</th>\n",
       "      <th>direct_tilt</th>\n",
       "      <th>thoracic_slope</th>\n",
       "      <th>cervical_tilt</th>\n",
       "      <th>sacrum_angle</th>\n",
       "      <th>scoliosis_slope</th>\n",
       "      <th>Label</th>\n",
       "    </tr>\n",
       "  </thead>\n",
       "  <tbody>\n",
       "    <tr>\n",
       "      <td>0</td>\n",
       "      <td>37</td>\n",
       "      <td>35.703458</td>\n",
       "      <td>19.443253</td>\n",
       "      <td>20.700000</td>\n",
       "      <td>16.260205</td>\n",
       "      <td>137.540613</td>\n",
       "      <td>-0.263490</td>\n",
       "      <td>0.882807</td>\n",
       "      <td>32.5864</td>\n",
       "      <td>12.7274</td>\n",
       "      <td>9.53575</td>\n",
       "      <td>-14.695641</td>\n",
       "      <td>38.7458</td>\n",
       "      <td>1</td>\n",
       "    </tr>\n",
       "    <tr>\n",
       "      <td>1</td>\n",
       "      <td>16</td>\n",
       "      <td>63.834982</td>\n",
       "      <td>20.362507</td>\n",
       "      <td>54.552434</td>\n",
       "      <td>43.472475</td>\n",
       "      <td>112.309491</td>\n",
       "      <td>-0.622527</td>\n",
       "      <td>0.560675</td>\n",
       "      <td>10.7690</td>\n",
       "      <td>16.8116</td>\n",
       "      <td>11.41344</td>\n",
       "      <td>2.676002</td>\n",
       "      <td>17.3859</td>\n",
       "      <td>1</td>\n",
       "    </tr>\n",
       "    <tr>\n",
       "      <td>2</td>\n",
       "      <td>55</td>\n",
       "      <td>47.657730</td>\n",
       "      <td>13.277385</td>\n",
       "      <td>36.679985</td>\n",
       "      <td>34.380345</td>\n",
       "      <td>98.249781</td>\n",
       "      <td>6.273012</td>\n",
       "      <td>0.972556</td>\n",
       "      <td>18.2046</td>\n",
       "      <td>16.9817</td>\n",
       "      <td>12.32724</td>\n",
       "      <td>-26.375211</td>\n",
       "      <td>14.1334</td>\n",
       "      <td>1</td>\n",
       "    </tr>\n",
       "    <tr>\n",
       "      <td>3</td>\n",
       "      <td>154</td>\n",
       "      <td>41.187770</td>\n",
       "      <td>5.792974</td>\n",
       "      <td>42.867392</td>\n",
       "      <td>35.394796</td>\n",
       "      <td>103.348880</td>\n",
       "      <td>27.660277</td>\n",
       "      <td>0.044130</td>\n",
       "      <td>21.0757</td>\n",
       "      <td>10.5374</td>\n",
       "      <td>9.66748</td>\n",
       "      <td>-9.571667</td>\n",
       "      <td>30.5253</td>\n",
       "      <td>1</td>\n",
       "    </tr>\n",
       "    <tr>\n",
       "      <td>4</td>\n",
       "      <td>279</td>\n",
       "      <td>48.801909</td>\n",
       "      <td>18.017762</td>\n",
       "      <td>52.000000</td>\n",
       "      <td>30.784147</td>\n",
       "      <td>139.150407</td>\n",
       "      <td>10.442862</td>\n",
       "      <td>0.105014</td>\n",
       "      <td>26.1245</td>\n",
       "      <td>19.2659</td>\n",
       "      <td>8.31303</td>\n",
       "      <td>-22.690688</td>\n",
       "      <td>39.6096</td>\n",
       "      <td>0</td>\n",
       "    </tr>\n",
       "  </tbody>\n",
       "</table>\n",
       "</div>"
      ],
      "text/plain": [
       "   Unnamed: 0  pelvic_incidence  pelvic_tilt  lumbar_lordosis_angle  \\\n",
       "0          37         35.703458    19.443253              20.700000   \n",
       "1          16         63.834982    20.362507              54.552434   \n",
       "2          55         47.657730    13.277385              36.679985   \n",
       "3         154         41.187770     5.792974              42.867392   \n",
       "4         279         48.801909    18.017762              52.000000   \n",
       "\n",
       "   sacral_slope  pelvic_radius  degree_spondylolisthesis  pelvic_slope  \\\n",
       "0     16.260205     137.540613                 -0.263490      0.882807   \n",
       "1     43.472475     112.309491                 -0.622527      0.560675   \n",
       "2     34.380345      98.249781                  6.273012      0.972556   \n",
       "3     35.394796     103.348880                 27.660277      0.044130   \n",
       "4     30.784147     139.150407                 10.442862      0.105014   \n",
       "\n",
       "   direct_tilt  thoracic_slope  cervical_tilt  sacrum_angle  scoliosis_slope  \\\n",
       "0      32.5864         12.7274        9.53575    -14.695641          38.7458   \n",
       "1      10.7690         16.8116       11.41344      2.676002          17.3859   \n",
       "2      18.2046         16.9817       12.32724    -26.375211          14.1334   \n",
       "3      21.0757         10.5374        9.66748     -9.571667          30.5253   \n",
       "4      26.1245         19.2659        8.31303    -22.690688          39.6096   \n",
       "\n",
       "   Label  \n",
       "0      1  \n",
       "1      1  \n",
       "2      1  \n",
       "3      1  \n",
       "4      0  "
      ]
     },
     "execution_count": 3,
     "metadata": {},
     "output_type": "execute_result"
    }
   ],
   "source": [
    "train_data.head()"
   ]
  },
  {
   "cell_type": "markdown",
   "metadata": {},
   "source": [
    "310 Observations, 13 Attributes (12 Numeric Predictors, 1 Binary Class Attribute - No Demographics)\n",
    "\n",
    "Lower back pain can be caused by a variety of problems with any parts of the complex, interconnected network of spinal muscles, nerves, bones, discs or tendons in the lumbar spine. Typical sources of low back pain include:\n",
    "\n",
    "The large nerve roots in the low back that go to the legs may be irritated\n",
    "The smaller nerves that supply the low back may be irritated\n",
    "The large paired lower back muscles (erector spinae) may be strained\n",
    "The bones, ligaments or joints may be damaged\n",
    "An intervertebral disc may be degenerating\n",
    "An irritation or problem with any of these structures can cause lower back pain and/or pain that radiates or is referred to other parts of the body. Many lower back problems also cause back muscle spasms, which don't sound like much but can cause severe pain and disability.\n",
    "\n",
    "While lower back pain is extremely common, the symptoms and severity of lower back pain vary greatly. A simple lower back muscle strain might be excruciating enough to necessitate an emergency room visit, while a degenerating disc might cause only mild, intermittent discomfort.\n",
    "\n",
    "This data set is about to identify a person is abnormal or normal using collected physical spine details/data."
   ]
  },
  {
   "cell_type": "code",
   "execution_count": 4,
   "metadata": {},
   "outputs": [
    {
     "data": {
      "text/html": [
       "<div>\n",
       "<style scoped>\n",
       "    .dataframe tbody tr th:only-of-type {\n",
       "        vertical-align: middle;\n",
       "    }\n",
       "\n",
       "    .dataframe tbody tr th {\n",
       "        vertical-align: top;\n",
       "    }\n",
       "\n",
       "    .dataframe thead th {\n",
       "        text-align: right;\n",
       "    }\n",
       "</style>\n",
       "<table border=\"1\" class=\"dataframe\">\n",
       "  <thead>\n",
       "    <tr style=\"text-align: right;\">\n",
       "      <th></th>\n",
       "      <th>Unnamed: 0</th>\n",
       "      <th>pelvic_incidence</th>\n",
       "      <th>pelvic_tilt</th>\n",
       "      <th>lumbar_lordosis_angle</th>\n",
       "      <th>sacral_slope</th>\n",
       "      <th>pelvic_radius</th>\n",
       "      <th>degree_spondylolisthesis</th>\n",
       "      <th>pelvic_slope</th>\n",
       "      <th>direct_tilt</th>\n",
       "      <th>thoracic_slope</th>\n",
       "      <th>cervical_tilt</th>\n",
       "      <th>sacrum_angle</th>\n",
       "      <th>scoliosis_slope</th>\n",
       "      <th>Label</th>\n",
       "    </tr>\n",
       "  </thead>\n",
       "  <tbody>\n",
       "    <tr>\n",
       "      <td>count</td>\n",
       "      <td>207.000000</td>\n",
       "      <td>207.000000</td>\n",
       "      <td>207.000000</td>\n",
       "      <td>207.000000</td>\n",
       "      <td>207.000000</td>\n",
       "      <td>207.000000</td>\n",
       "      <td>207.000000</td>\n",
       "      <td>207.000000</td>\n",
       "      <td>207.000000</td>\n",
       "      <td>207.000000</td>\n",
       "      <td>207.000000</td>\n",
       "      <td>207.000000</td>\n",
       "      <td>207.000000</td>\n",
       "      <td>207.000000</td>\n",
       "    </tr>\n",
       "    <tr>\n",
       "      <td>mean</td>\n",
       "      <td>157.811594</td>\n",
       "      <td>59.499959</td>\n",
       "      <td>16.958779</td>\n",
       "      <td>50.893909</td>\n",
       "      <td>42.541181</td>\n",
       "      <td>118.574496</td>\n",
       "      <td>25.949329</td>\n",
       "      <td>0.472566</td>\n",
       "      <td>21.044952</td>\n",
       "      <td>13.007243</td>\n",
       "      <td>11.931664</td>\n",
       "      <td>-13.761669</td>\n",
       "      <td>26.027024</td>\n",
       "      <td>0.657005</td>\n",
       "    </tr>\n",
       "    <tr>\n",
       "      <td>std</td>\n",
       "      <td>89.463820</td>\n",
       "      <td>17.386182</td>\n",
       "      <td>9.607004</td>\n",
       "      <td>17.665639</td>\n",
       "      <td>13.651320</td>\n",
       "      <td>12.609351</td>\n",
       "      <td>40.354828</td>\n",
       "      <td>0.283586</td>\n",
       "      <td>8.585896</td>\n",
       "      <td>3.413408</td>\n",
       "      <td>2.979811</td>\n",
       "      <td>12.490424</td>\n",
       "      <td>10.624010</td>\n",
       "      <td>0.475861</td>\n",
       "    </tr>\n",
       "    <tr>\n",
       "      <td>min</td>\n",
       "      <td>0.000000</td>\n",
       "      <td>26.147921</td>\n",
       "      <td>-6.554948</td>\n",
       "      <td>14.000000</td>\n",
       "      <td>13.516568</td>\n",
       "      <td>81.024541</td>\n",
       "      <td>-11.058179</td>\n",
       "      <td>0.005045</td>\n",
       "      <td>7.055100</td>\n",
       "      <td>7.037800</td>\n",
       "      <td>7.030600</td>\n",
       "      <td>-35.287375</td>\n",
       "      <td>7.069800</td>\n",
       "      <td>0.000000</td>\n",
       "    </tr>\n",
       "    <tr>\n",
       "      <td>25%</td>\n",
       "      <td>84.000000</td>\n",
       "      <td>45.969094</td>\n",
       "      <td>10.145246</td>\n",
       "      <td>37.000000</td>\n",
       "      <td>33.277979</td>\n",
       "      <td>111.533428</td>\n",
       "      <td>1.534517</td>\n",
       "      <td>0.232902</td>\n",
       "      <td>12.949750</td>\n",
       "      <td>10.285900</td>\n",
       "      <td>9.524230</td>\n",
       "      <td>-24.849199</td>\n",
       "      <td>16.988800</td>\n",
       "      <td>0.000000</td>\n",
       "    </tr>\n",
       "    <tr>\n",
       "      <td>50%</td>\n",
       "      <td>159.000000</td>\n",
       "      <td>56.535051</td>\n",
       "      <td>15.969344</td>\n",
       "      <td>48.000000</td>\n",
       "      <td>41.987212</td>\n",
       "      <td>118.588669</td>\n",
       "      <td>9.064582</td>\n",
       "      <td>0.473130</td>\n",
       "      <td>21.501300</td>\n",
       "      <td>12.843200</td>\n",
       "      <td>11.953700</td>\n",
       "      <td>-12.363109</td>\n",
       "      <td>26.891700</td>\n",
       "      <td>1.000000</td>\n",
       "    </tr>\n",
       "    <tr>\n",
       "      <td>75%</td>\n",
       "      <td>234.000000</td>\n",
       "      <td>72.391518</td>\n",
       "      <td>21.122577</td>\n",
       "      <td>61.821226</td>\n",
       "      <td>51.883721</td>\n",
       "      <td>125.536899</td>\n",
       "      <td>40.446654</td>\n",
       "      <td>0.699979</td>\n",
       "      <td>28.181650</td>\n",
       "      <td>15.703600</td>\n",
       "      <td>14.378560</td>\n",
       "      <td>-2.949825</td>\n",
       "      <td>34.886250</td>\n",
       "      <td>1.000000</td>\n",
       "    </tr>\n",
       "    <tr>\n",
       "      <td>max</td>\n",
       "      <td>309.000000</td>\n",
       "      <td>129.834041</td>\n",
       "      <td>48.903653</td>\n",
       "      <td>100.744220</td>\n",
       "      <td>121.429566</td>\n",
       "      <td>163.071041</td>\n",
       "      <td>418.543082</td>\n",
       "      <td>0.998827</td>\n",
       "      <td>36.628500</td>\n",
       "      <td>19.324000</td>\n",
       "      <td>16.821080</td>\n",
       "      <td>6.972071</td>\n",
       "      <td>44.341200</td>\n",
       "      <td>1.000000</td>\n",
       "    </tr>\n",
       "  </tbody>\n",
       "</table>\n",
       "</div>"
      ],
      "text/plain": [
       "       Unnamed: 0  pelvic_incidence  pelvic_tilt  lumbar_lordosis_angle  \\\n",
       "count  207.000000        207.000000   207.000000             207.000000   \n",
       "mean   157.811594         59.499959    16.958779              50.893909   \n",
       "std     89.463820         17.386182     9.607004              17.665639   \n",
       "min      0.000000         26.147921    -6.554948              14.000000   \n",
       "25%     84.000000         45.969094    10.145246              37.000000   \n",
       "50%    159.000000         56.535051    15.969344              48.000000   \n",
       "75%    234.000000         72.391518    21.122577              61.821226   \n",
       "max    309.000000        129.834041    48.903653             100.744220   \n",
       "\n",
       "       sacral_slope  pelvic_radius  degree_spondylolisthesis  pelvic_slope  \\\n",
       "count    207.000000     207.000000                207.000000    207.000000   \n",
       "mean      42.541181     118.574496                 25.949329      0.472566   \n",
       "std       13.651320      12.609351                 40.354828      0.283586   \n",
       "min       13.516568      81.024541                -11.058179      0.005045   \n",
       "25%       33.277979     111.533428                  1.534517      0.232902   \n",
       "50%       41.987212     118.588669                  9.064582      0.473130   \n",
       "75%       51.883721     125.536899                 40.446654      0.699979   \n",
       "max      121.429566     163.071041                418.543082      0.998827   \n",
       "\n",
       "       direct_tilt  thoracic_slope  cervical_tilt  sacrum_angle  \\\n",
       "count   207.000000      207.000000     207.000000    207.000000   \n",
       "mean     21.044952       13.007243      11.931664    -13.761669   \n",
       "std       8.585896        3.413408       2.979811     12.490424   \n",
       "min       7.055100        7.037800       7.030600    -35.287375   \n",
       "25%      12.949750       10.285900       9.524230    -24.849199   \n",
       "50%      21.501300       12.843200      11.953700    -12.363109   \n",
       "75%      28.181650       15.703600      14.378560     -2.949825   \n",
       "max      36.628500       19.324000      16.821080      6.972071   \n",
       "\n",
       "       scoliosis_slope       Label  \n",
       "count       207.000000  207.000000  \n",
       "mean         26.027024    0.657005  \n",
       "std          10.624010    0.475861  \n",
       "min           7.069800    0.000000  \n",
       "25%          16.988800    0.000000  \n",
       "50%          26.891700    1.000000  \n",
       "75%          34.886250    1.000000  \n",
       "max          44.341200    1.000000  "
      ]
     },
     "execution_count": 4,
     "metadata": {},
     "output_type": "execute_result"
    }
   ],
   "source": [
    "train_data.describe()"
   ]
  },
  {
   "cell_type": "code",
   "execution_count": 5,
   "metadata": {
    "scrolled": true
   },
   "outputs": [
    {
     "name": "stdout",
     "output_type": "stream",
     "text": [
      "<class 'pandas.core.frame.DataFrame'>\n",
      "RangeIndex: 207 entries, 0 to 206\n",
      "Data columns (total 14 columns):\n",
      "Unnamed: 0                  207 non-null int64\n",
      "pelvic_incidence            207 non-null float64\n",
      "pelvic_tilt                 207 non-null float64\n",
      "lumbar_lordosis_angle       207 non-null float64\n",
      "sacral_slope                207 non-null float64\n",
      "pelvic_radius               207 non-null float64\n",
      "degree_spondylolisthesis    207 non-null float64\n",
      "pelvic_slope                207 non-null float64\n",
      "direct_tilt                 207 non-null float64\n",
      "thoracic_slope              207 non-null float64\n",
      "cervical_tilt               207 non-null float64\n",
      "sacrum_angle                207 non-null float64\n",
      "scoliosis_slope             207 non-null float64\n",
      "Label                       207 non-null int64\n",
      "dtypes: float64(12), int64(2)\n",
      "memory usage: 22.8 KB\n"
     ]
    }
   ],
   "source": [
    "train_data.info()"
   ]
  },
  {
   "cell_type": "code",
   "execution_count": 6,
   "metadata": {},
   "outputs": [],
   "source": [
    "from sklearn.ensemble import RandomForestClassifier\n",
    "def rf_ml(Xtrain,Ytrain,Xtest):\n",
    "    model = RandomForestClassifier()\n",
    "    model.fit(Xtrain,Ytrain)\n",
    "    labels = model.predict(Xtest)\n",
    "    return labels"
   ]
  },
  {
   "cell_type": "code",
   "execution_count": 7,
   "metadata": {},
   "outputs": [],
   "source": [
    "from sklearn.svm import SVC\n",
    "def svc_ml(Xtrain,Ytrain,Xtest):\n",
    "    model = SVC()\n",
    "    model.fit(Xtrain,Ytrain)\n",
    "    labels = model.predict(Xtest)\n",
    "    return labels\n"
   ]
  },
  {
   "cell_type": "code",
   "execution_count": 8,
   "metadata": {},
   "outputs": [],
   "source": [
    "from sklearn.tree import DecisionTreeClassifier\n",
    "def dt_ml(Xtrain,Ytrain,Xtest):\n",
    "    model = DecisionTreeClassifier()\n",
    "    model.fit(Xtrain,Ytrain)\n",
    "    labels = model.predict(Xtest)\n",
    "    return labels"
   ]
  },
  {
   "cell_type": "markdown",
   "metadata": {},
   "source": [
    "# Reasons I didnt inlcude other classification models:\n",
    "KNN is not good with higher number of dimensions.\n",
    "NB is not suitable for this problem according to me as there is no 3rd data table available to draw conclusions about the probability of abnormility, maybe one can split the data columns in such a way that NB can be used, but its still not very reliable for this, maybe for some other day for NLP related problems.\n"
   ]
  },
  {
   "cell_type": "code",
   "execution_count": 9,
   "metadata": {},
   "outputs": [
    {
     "data": {
      "text/plain": [
       "Index(['Unnamed: 0', 'pelvic_incidence', 'pelvic_tilt',\n",
       "       'lumbar_lordosis_angle', 'sacral_slope', 'pelvic_radius',\n",
       "       'degree_spondylolisthesis', 'pelvic_slope', 'direct_tilt',\n",
       "       'thoracic_slope', 'cervical_tilt', 'sacrum_angle', 'scoliosis_slope',\n",
       "       'Label'],\n",
       "      dtype='object')"
      ]
     },
     "execution_count": 9,
     "metadata": {},
     "output_type": "execute_result"
    }
   ],
   "source": [
    "train_data.columns"
   ]
  },
  {
   "cell_type": "code",
   "execution_count": 10,
   "metadata": {},
   "outputs": [],
   "source": [
    "Xtrain = train_data[['pelvic_incidence', 'pelvic_tilt',\n",
    "       'lumbar_lordosis_angle', 'sacral_slope', 'pelvic_radius',\n",
    "       'degree_spondylolisthesis', 'pelvic_slope', 'direct_tilt',\n",
    "       'thoracic_slope', 'cervical_tilt', 'sacrum_angle', 'scoliosis_slope']]"
   ]
  },
  {
   "cell_type": "code",
   "execution_count": 11,
   "metadata": {},
   "outputs": [],
   "source": [
    "Ytrain=train_data['Label']"
   ]
  },
  {
   "cell_type": "code",
   "execution_count": 12,
   "metadata": {},
   "outputs": [],
   "source": [
    "Xtest=  test_data[['pelvic_incidence', 'pelvic_tilt',\n",
    "       'lumbar_lordosis_angle', 'sacral_slope', 'pelvic_radius',\n",
    "       'degree_spondylolisthesis', 'pelvic_slope', 'direct_tilt',\n",
    "       'thoracic_slope', 'cervical_tilt', 'sacrum_angle', 'scoliosis_slope']]"
   ]
  },
  {
   "cell_type": "code",
   "execution_count": 13,
   "metadata": {},
   "outputs": [
    {
     "name": "stderr",
     "output_type": "stream",
     "text": [
      "C:\\Users\\aakas\\Anaconda3\\lib\\site-packages\\sklearn\\ensemble\\forest.py:245: FutureWarning: The default value of n_estimators will change from 10 in version 0.20 to 100 in 0.22.\n",
      "  \"10 in version 0.20 to 100 in 0.22.\", FutureWarning)\n",
      "C:\\Users\\aakas\\Anaconda3\\lib\\site-packages\\sklearn\\svm\\base.py:193: FutureWarning: The default value of gamma will change from 'auto' to 'scale' in version 0.22 to account better for unscaled features. Set gamma explicitly to 'auto' or 'scale' to avoid this warning.\n",
      "  \"avoid this warning.\", FutureWarning)\n"
     ]
    }
   ],
   "source": [
    "Pred_dt=dt_ml(Xtrain,Ytrain,Xtest)\n",
    "Pred_rf=rf_ml(Xtrain,Ytrain,Xtest)\n",
    "Pred_svc=svc_ml(Xtrain,Ytrain,Xtest)\n"
   ]
  },
  {
   "cell_type": "code",
   "execution_count": 14,
   "metadata": {},
   "outputs": [],
   "source": [
    "Ytest=test_data['Label']"
   ]
  },
  {
   "cell_type": "code",
   "execution_count": 15,
   "metadata": {},
   "outputs": [
    {
     "name": "stdout",
     "output_type": "stream",
     "text": [
      "              precision    recall  f1-score   support\n",
      "\n",
      "           0       0.59      0.59      0.59        29\n",
      "           1       0.84      0.84      0.84        74\n",
      "\n",
      "    accuracy                           0.77       103\n",
      "   macro avg       0.71      0.71      0.71       103\n",
      "weighted avg       0.77      0.77      0.77       103\n",
      "\n",
      "              precision    recall  f1-score   support\n",
      "\n",
      "           0       0.60      0.62      0.61        29\n",
      "           1       0.85      0.84      0.84        74\n",
      "\n",
      "    accuracy                           0.78       103\n",
      "   macro avg       0.72      0.73      0.73       103\n",
      "weighted avg       0.78      0.78      0.78       103\n",
      "\n",
      "              precision    recall  f1-score   support\n",
      "\n",
      "           0       0.00      0.00      0.00        29\n",
      "           1       0.72      1.00      0.84        74\n",
      "\n",
      "    accuracy                           0.72       103\n",
      "   macro avg       0.36      0.50      0.42       103\n",
      "weighted avg       0.52      0.72      0.60       103\n",
      "\n"
     ]
    },
    {
     "name": "stderr",
     "output_type": "stream",
     "text": [
      "C:\\Users\\aakas\\Anaconda3\\lib\\site-packages\\sklearn\\metrics\\classification.py:1437: UndefinedMetricWarning: Precision and F-score are ill-defined and being set to 0.0 in labels with no predicted samples.\n",
      "  'precision', 'predicted', average, warn_for)\n"
     ]
    }
   ],
   "source": [
    "from sklearn.metrics import classification_report\n",
    "print(classification_report(Ytest,Pred_dt))\n",
    "print(classification_report(Ytest,Pred_rf))\n",
    "print(classification_report(Ytest,Pred_svc))"
   ]
  },
  {
   "cell_type": "markdown",
   "metadata": {},
   "source": [
    "# Confusion matrix to understand this better."
   ]
  },
  {
   "cell_type": "code",
   "execution_count": 16,
   "metadata": {},
   "outputs": [
    {
     "data": {
      "text/plain": [
       "array([[17, 12],\n",
       "       [12, 62]], dtype=int64)"
      ]
     },
     "execution_count": 16,
     "metadata": {},
     "output_type": "execute_result"
    }
   ],
   "source": [
    "from sklearn.metrics import confusion_matrix\n",
    "confusion_matrix(Ytest,Pred_dt)"
   ]
  },
  {
   "cell_type": "code",
   "execution_count": 17,
   "metadata": {},
   "outputs": [
    {
     "data": {
      "text/plain": [
       "array([[18, 11],\n",
       "       [12, 62]], dtype=int64)"
      ]
     },
     "execution_count": 17,
     "metadata": {},
     "output_type": "execute_result"
    }
   ],
   "source": [
    "confusion_matrix(Ytest,Pred_rf)"
   ]
  },
  {
   "cell_type": "code",
   "execution_count": 18,
   "metadata": {},
   "outputs": [
    {
     "data": {
      "text/plain": [
       "array([[ 0, 29],\n",
       "       [ 0, 74]], dtype=int64)"
      ]
     },
     "execution_count": 18,
     "metadata": {},
     "output_type": "execute_result"
    }
   ],
   "source": [
    "confusion_matrix(Ytest,Pred_svc)"
   ]
  },
  {
   "cell_type": "markdown",
   "metadata": {},
   "source": [
    "Using GridSearchCV now."
   ]
  },
  {
   "cell_type": "code",
   "execution_count": 19,
   "metadata": {},
   "outputs": [],
   "source": [
    "from sklearn.model_selection import GridSearchCV\n",
    "def grid_dt(Xtrain,Ytrain,Xtest):\n",
    "    model=DecisionTreeClassifier()\n",
    "    parameters = {'max_depth':np.arange(1,31), 'min_samples_leaf':[1,2,3,4, 5, 10, 20, 50, 100],'min_samples_split':[2,3],'criterion':['gini','entropy']}\n",
    "    gs_dt=GridSearchCV(estimator=model,param_grid=parameters)\n",
    "    gs_dt.fit(Xtrain,Ytrain)\n",
    "    print(gs_dt.best_estimator_)\n",
    "    new_model=gs_dt.best_estimator_\n",
    "    new_model.fit(Xtrain,Ytrain)\n",
    "    labels = new_model.predict(Xtest)\n",
    "    return labels\n",
    "    "
   ]
  },
  {
   "cell_type": "code",
   "execution_count": 20,
   "metadata": {},
   "outputs": [
    {
     "name": "stderr",
     "output_type": "stream",
     "text": [
      "C:\\Users\\aakas\\Anaconda3\\lib\\site-packages\\sklearn\\model_selection\\_split.py:1978: FutureWarning: The default value of cv will change from 3 to 5 in version 0.22. Specify it explicitly to silence this warning.\n",
      "  warnings.warn(CV_WARNING, FutureWarning)\n"
     ]
    },
    {
     "name": "stdout",
     "output_type": "stream",
     "text": [
      "DecisionTreeClassifier(class_weight=None, criterion='gini', max_depth=4,\n",
      "                       max_features=None, max_leaf_nodes=None,\n",
      "                       min_impurity_decrease=0.0, min_impurity_split=None,\n",
      "                       min_samples_leaf=5, min_samples_split=3,\n",
      "                       min_weight_fraction_leaf=0.0, presort=False,\n",
      "                       random_state=None, splitter='best')\n",
      "              precision    recall  f1-score   support\n",
      "\n",
      "           0       0.61      0.66      0.63        29\n",
      "           1       0.86      0.84      0.85        74\n",
      "\n",
      "    accuracy                           0.79       103\n",
      "   macro avg       0.74      0.75      0.74       103\n",
      "weighted avg       0.79      0.79      0.79       103\n",
      "\n"
     ]
    },
    {
     "name": "stderr",
     "output_type": "stream",
     "text": [
      "C:\\Users\\aakas\\Anaconda3\\lib\\site-packages\\sklearn\\model_selection\\_search.py:814: DeprecationWarning: The default of the `iid` parameter will change from True to False in version 0.22 and will be removed in 0.24. This will change numeric results when test-set sizes are unequal.\n",
      "  DeprecationWarning)\n"
     ]
    },
    {
     "data": {
      "text/plain": [
       "array([[19, 10],\n",
       "       [12, 62]], dtype=int64)"
      ]
     },
     "execution_count": 20,
     "metadata": {},
     "output_type": "execute_result"
    }
   ],
   "source": [
    "GridPredDT = grid_dt(Xtrain,Ytrain,Xtest)\n",
    "print(classification_report(Ytest,GridPredDT))\n",
    "confusion_matrix(Ytest,GridPredDT)"
   ]
  },
  {
   "cell_type": "code",
   "execution_count": 21,
   "metadata": {},
   "outputs": [],
   "source": [
    "from sklearn.decomposition import PCA\n",
    "from sklearn.pipeline import Pipeline\n",
    "def grid_rf(Xtrain,Ytrain,Xtest):\n",
    "\n",
    "    model=RandomForestClassifier()\n",
    "    pca = PCA()\n",
    "    pipe = Pipeline(steps=[('pca', pca), ('model', model)])\n",
    "    param_grid = { 'pca__svd_solver':['full'],'pca__n_components':[2,4,6,8,10],'model__n_estimators': np.arange(100,700,200), 'model__max_features': ['auto', 'sqrt', 'log2'],'model__max_depth':np.arange(1,6),'model__criterion':['gini']}\n",
    "    gs_rf=GridSearchCV(estimator=pipe,param_grid=param_grid)\n",
    "    gs_rf.fit(Xtrain,Ytrain)\n",
    "    print(gs_rf.best_estimator_)\n",
    "    new_model=gs_rf.best_estimator_\n",
    "    new_model.fit(Xtrain,Ytrain)\n",
    "    labels = new_model.predict(Xtest)\n",
    "    return labels\n",
    "    "
   ]
  },
  {
   "cell_type": "code",
   "execution_count": 22,
   "metadata": {},
   "outputs": [
    {
     "data": {
      "text/plain": [
       "dict_keys(['memory', 'steps', 'verbose', 'pca', 'model', 'pca__copy', 'pca__iterated_power', 'pca__n_components', 'pca__random_state', 'pca__svd_solver', 'pca__tol', 'pca__whiten', 'model__bootstrap', 'model__class_weight', 'model__criterion', 'model__max_depth', 'model__max_features', 'model__max_leaf_nodes', 'model__min_impurity_decrease', 'model__min_impurity_split', 'model__min_samples_leaf', 'model__min_samples_split', 'model__min_weight_fraction_leaf', 'model__n_estimators', 'model__n_jobs', 'model__oob_score', 'model__random_state', 'model__verbose', 'model__warm_start'])"
      ]
     },
     "execution_count": 22,
     "metadata": {},
     "output_type": "execute_result"
    }
   ],
   "source": [
    "model=RandomForestClassifier()\n",
    "pca = PCA()\n",
    "pipe = Pipeline(steps=[('pca', pca), ('model', model)])\n",
    "pipe.get_params().keys()"
   ]
  },
  {
   "cell_type": "code",
   "execution_count": 23,
   "metadata": {},
   "outputs": [
    {
     "name": "stderr",
     "output_type": "stream",
     "text": [
      "C:\\Users\\aakas\\Anaconda3\\lib\\site-packages\\sklearn\\model_selection\\_split.py:1978: FutureWarning: The default value of cv will change from 3 to 5 in version 0.22. Specify it explicitly to silence this warning.\n",
      "  warnings.warn(CV_WARNING, FutureWarning)\n",
      "C:\\Users\\aakas\\Anaconda3\\lib\\site-packages\\sklearn\\model_selection\\_search.py:814: DeprecationWarning: The default of the `iid` parameter will change from True to False in version 0.22 and will be removed in 0.24. This will change numeric results when test-set sizes are unequal.\n",
      "  DeprecationWarning)\n"
     ]
    },
    {
     "name": "stdout",
     "output_type": "stream",
     "text": [
      "Pipeline(memory=None,\n",
      "         steps=[('pca',\n",
      "                 PCA(copy=True, iterated_power='auto', n_components=8,\n",
      "                     random_state=None, svd_solver='full', tol=0.0,\n",
      "                     whiten=False)),\n",
      "                ('model',\n",
      "                 RandomForestClassifier(bootstrap=True, class_weight=None,\n",
      "                                        criterion='gini', max_depth=5,\n",
      "                                        max_features='auto',\n",
      "                                        max_leaf_nodes=None,\n",
      "                                        min_impurity_decrease=0.0,\n",
      "                                        min_impurity_split=None,\n",
      "                                        min_samples_leaf=1, min_samples_split=2,\n",
      "                                        min_weight_fraction_leaf=0.0,\n",
      "                                        n_estimators=300, n_jobs=None,\n",
      "                                        oob_score=False, random_state=None,\n",
      "                                        verbose=0, warm_start=False))],\n",
      "         verbose=False)\n",
      "              precision    recall  f1-score   support\n",
      "\n",
      "           0       0.59      0.55      0.57        29\n",
      "           1       0.83      0.85      0.84        74\n",
      "\n",
      "    accuracy                           0.77       103\n",
      "   macro avg       0.71      0.70      0.71       103\n",
      "weighted avg       0.76      0.77      0.76       103\n",
      "\n"
     ]
    },
    {
     "data": {
      "text/plain": [
       "array([[16, 13],\n",
       "       [11, 63]], dtype=int64)"
      ]
     },
     "execution_count": 23,
     "metadata": {},
     "output_type": "execute_result"
    }
   ],
   "source": [
    "GridPredRF = grid_rf(Xtrain,Ytrain,Xtest)\n",
    "print(classification_report(Ytest,GridPredRF))\n",
    "confusion_matrix(Ytest,GridPredRF)"
   ]
  },
  {
   "cell_type": "code",
   "execution_count": 25,
   "metadata": {},
   "outputs": [
    {
     "name": "stdout",
     "output_type": "stream",
     "text": [
      "F1 Score for Decision tree  ----- 0.8378378378378378\n",
      "F1 Score for Random Forest  ----- 0.8435374149659863\n",
      "F1 Score for Decision tree with GridSearch  ----- 0.8493150684931507\n",
      "F1 Score for Random forest with GridSearch ----- 0.8400000000000001\n"
     ]
    }
   ],
   "source": [
    "from sklearn.metrics import f1_score\n",
    "print('F1 Score for Decision tree  ----- {}'.format(f1_score(Ytest,Pred_dt)))\n",
    "print('F1 Score for Random Forest  ----- {}'.format(f1_score(Ytest,Pred_rf)))\n",
    "print('F1 Score for Decision tree with GridSearch  ----- {}'.format(f1_score(Ytest,GridPredDT)))\n",
    "print('F1 Score for Random forest with GridSearch ----- {}'.format(f1_score(Ytest,GridPredRF)))"
   ]
  },
  {
   "cell_type": "code",
   "execution_count": 24,
   "metadata": {},
   "outputs": [],
   "source": [
    "sub = pd.read_csv('sample_submission.csv')"
   ]
  },
  {
   "cell_type": "code",
   "execution_count": 27,
   "metadata": {},
   "outputs": [],
   "source": [
    "sub['Label']=GridPredRF"
   ]
  },
  {
   "cell_type": "code",
   "execution_count": 29,
   "metadata": {},
   "outputs": [],
   "source": [
    "sub.to_csv('Submission2.csv',index=False)"
   ]
  },
  {
   "cell_type": "code",
   "execution_count": null,
   "metadata": {},
   "outputs": [],
   "source": []
  }
 ],
 "metadata": {
  "kernelspec": {
   "display_name": "Python 3",
   "language": "python",
   "name": "python3"
  },
  "language_info": {
   "codemirror_mode": {
    "name": "ipython",
    "version": 3
   },
   "file_extension": ".py",
   "mimetype": "text/x-python",
   "name": "python",
   "nbconvert_exporter": "python",
   "pygments_lexer": "ipython3",
   "version": "3.7.4"
  }
 },
 "nbformat": 4,
 "nbformat_minor": 2
}
